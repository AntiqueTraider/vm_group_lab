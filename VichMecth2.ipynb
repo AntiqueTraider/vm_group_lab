{
 "cells": [
  {
   "cell_type": "code",
   "execution_count": 15,
   "metadata": {},
   "outputs": [],
   "source": [
    "import numpy as np\n",
    "import matplotlib.pyplot as plt\n",
    "from math import sqrt\n",
    "\n",
    "from matplotlib import rcParams\n",
    "rcParams['figure.figsize'] = 10, 10\n",
    "rcParams['font.size'] = 16\n",
    "rcParams['axes.labelsize'] = 14\n",
    "rcParams['xtick.labelsize'] = 13\n",
    "rcParams['ytick.labelsize'] = 13\n",
    "rcParams['legend.fontsize'] = 15"
   ]
  },
  {
   "cell_type": "code",
   "execution_count": 16,
   "metadata": {},
   "outputs": [],
   "source": [
    "# задание параметров для тестовых примеров\n",
    "\n",
    "A1 = np.matrix([[1., 0.], [0., 1.], [1., 2.]])\n",
    "f1 = np.matrix([[0.], [0.], [4.]])\n",
    "\n",
    "A2 = np.matrix([[1., 0.], [0., 1.], [2., 1.]])\n",
    "f2 = np.matrix([[0.], [0.], [8.]])\n",
    "\n",
    "A3 = np.matrix([[1., 0.], [0., 1.], [2., 3.]])\n",
    "f3 = np.matrix([[0.], [0.], [8.]])\n",
    "\n",
    "B_test = np.matrix([[1., 1., 1.], [2., 2., 2.], [1., 1., 2.]])"
   ]
  },
  {
   "cell_type": "code",
   "execution_count": 17,
   "metadata": {},
   "outputs": [],
   "source": [
    "# пример\n",
    "A_ex = np.matrix([[6.25, -1., 0.5 ],\n",
    "               [-1.,   5., 2.12],\n",
    "               [0.5,  2.12, 3.6]])\n",
    "f_ex = np.matrix([[7.5],\n",
    "                  [-8.68],\n",
    "                  [-0.24]])\n",
    "B_ex = np.identity(3)"
   ]
  },
  {
   "cell_type": "code",
   "execution_count": 18,
   "metadata": {},
   "outputs": [],
   "source": [
    "def cholesky(A):\n",
    "    L = np.zeros((len(A), len(A)))\n",
    "    for i in range(len(A)): \n",
    "        for j in range(i+1):\n",
    "            s = sum(L[i][k] * L[j][k] for k in range(j))\n",
    "            L[i][j] = sqrt(A[i, i] - s) if (i == j) else  (1.0 / L[j][j] * (A[i, j] - s))\n",
    "    return L"
   ]
  },
  {
   "cell_type": "code",
   "execution_count": 19,
   "metadata": {},
   "outputs": [],
   "source": [
    "def find_output(A, f, B):\n",
    "    \n",
    "    buf = A.T.dot(B)\n",
    "    left = buf.dot(A)\n",
    "    right = buf.dot(f)\n",
    "    \n",
    "    check = True\n",
    "    \n",
    "    for i in range(1, len(left)):\n",
    "        for j in range(i):\n",
    "            check = check and (left[i, j] == left[j, i])\n",
    "            if check:\n",
    "                w, v = np.linalg.eig(left)\n",
    "                for i in w:\n",
    "                    check = check and (i>0)\n",
    "                    if check:\n",
    "                        L = cholesky(left)\n",
    "                        Y = np.linalg.solve(L, right)\n",
    "                        X = np.linalg.solve(L.T, Y)\n",
    "                        R = right - left.dot(X)\n",
    "                        R_norm = np.linalg.norm(R)\n",
    "                        return X, R, R_norm\n",
    "                    else:\n",
    "                        raise ValueError(\"Матрица не положительно определённая\")\n",
    "            else:\n",
    "                raise ValueError(\"Матрица не симметрична\")"
   ]
  },
  {
   "cell_type": "code",
   "execution_count": 20,
   "metadata": {
    "scrolled": true
   },
   "outputs": [
    {
     "name": "stdout",
     "output_type": "stream",
     "text": [
      "верктор решения X = [[ 0.8]\n",
      " [-2. ]\n",
      " [ 1. ]]\n",
      "вектор невязки R = [[-7.10542736e-15]\n",
      " [ 0.00000000e+00]\n",
      " [-1.06581410e-14]]\n",
      "норма вектора невязки R_norm = 1.2809491335957507e-14\n"
     ]
    }
   ],
   "source": [
    "X, R, R_norm = find_output(A_ex, f_ex, B_ex)\n",
    "\n",
    "print('верктор решения X = {}'.format(X))\n",
    "print('вектор невязки R = {}'.format(R))\n",
    "print('норма вектора невязки R_norm = {}'.format(R_norm))"
   ]
  },
  {
   "cell_type": "code",
   "execution_count": null,
   "metadata": {},
   "outputs": [],
   "source": []
  }
 ],
 "metadata": {
  "kernelspec": {
   "display_name": "Python 3",
   "language": "python",
   "name": "python3"
  },
  "language_info": {
   "codemirror_mode": {
    "name": "ipython",
    "version": 3
   },
   "file_extension": ".py",
   "mimetype": "text/x-python",
   "name": "python",
   "nbconvert_exporter": "python",
   "pygments_lexer": "ipython3",
   "version": "3.7.3"
  }
 },
 "nbformat": 4,
 "nbformat_minor": 4
}
